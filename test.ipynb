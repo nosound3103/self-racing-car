{
 "cells": [
  {
   "cell_type": "code",
   "execution_count": 3,
   "metadata": {},
   "outputs": [],
   "source": [
    "import numpy\n",
    "import shapely\n",
    "\n",
    "from shapely.geometry import Point, LineString, Polygon"
   ]
  },
  {
   "cell_type": "code",
   "execution_count": 2,
   "metadata": {},
   "outputs": [],
   "source": [
    "min_speed_sign_line = [[[27, 433], [91, 433]], [[280, 224], [344, 224]], [[680, 514], [744, 514]]]\n",
    "max_speed_sign_line = [[[159, 145], [227, 145]], [[440, 223], [468, 223]]]\n",
    "speed_bump_box = [[[26, 441], [90, 445], [87, 474], [24, 470]], [[277, 325], [341, 325], [340, 354], [275, 354]], [[415, 520], [473, 490], [485, 517], [428, 546]], [[655, 310], [681, 45], [649, 120], [622, 89]]]"
   ]
  },
  {
   "cell_type": "code",
   "execution_count": 6,
   "metadata": {},
   "outputs": [],
   "source": [
    "min_speed_sign_line = [LineString(min_speed_sign_line[i]) for i in range(len(min_speed_sign_line))]\n",
    "max_speed_sign_line = [LineString(max_speed_sign_line[i]) for i in range(len(max_speed_sign_line))]\n",
    "speed_bump_box = [Polygon(speed_bump_box[i]) for i in range(len(speed_bump_box))]"
   ]
  },
  {
   "cell_type": "code",
   "execution_count": 10,
   "metadata": {},
   "outputs": [],
   "source": [
    "car = Polygon([[0, 0], [0, 10], [10, 10], [10, 0]])"
   ]
  },
  {
   "cell_type": "code",
   "execution_count": 9,
   "metadata": {},
   "outputs": [],
   "source": [
    "obj = min_speed_sign_line + max_speed_sign_line + speed_bump_box"
   ]
  },
  {
   "cell_type": "code",
   "execution_count": null,
   "metadata": {},
   "outputs": [],
   "source": [
    "for i in range(len(speed_bump_box)):\n",
    "    if car.intersects(speed_bump_box[i]):\n",
    "        print(\"Car intersects speed bump\")\n",
    "        break"
   ]
  },
  {
   "cell_type": "code",
   "execution_count": 4,
   "metadata": {},
   "outputs": [],
   "source": [
    "import torch\n",
    "import torch.nn as nn\n",
    "import torch.nn.functional as F\n",
    "import torch.optim as optim\n",
    "import numpy as np\n",
    "\n",
    "\n",
    "class DeepQNetwork(nn.Module):\n",
    "    def __init__(self, lr, input_dims, n_actions):\n",
    "        super(DeepQNetwork, self).__init__()\n",
    "\n",
    "        self.fc1 = nn.Linear(np.prod(input_dims), 256)\n",
    "        self.bn1 = nn.BatchNorm1d(256)\n",
    "\n",
    "        self.fc2 = nn.Linear(256, 512)\n",
    "        self.bn2 = nn.BatchNorm1d(512)\n",
    "\n",
    "        self.fc3 = nn.Linear(512, 1024)\n",
    "        self.bn3 = nn.BatchNorm1d(1024)\n",
    "\n",
    "        self.fc4 = nn.Linear(1024, 1024)\n",
    "        self.bn4 = nn.BatchNorm1d(1024)\n",
    "\n",
    "        self.fc5 = nn.Linear(1024, 1024)\n",
    "        self.bn5 = nn.BatchNorm1d(1024)\n",
    "\n",
    "        self.fc6 = nn.Linear(1024, 1024)\n",
    "        self.bn6 = nn.BatchNorm1d(1024)\n",
    "\n",
    "        self.fc7 = nn.Linear(1024, 1024)\n",
    "        self.bn7 = nn.BatchNorm1d(1024)\n",
    "\n",
    "        self.fc8 = nn.Linear(1024, 512)\n",
    "        self.bn8 = nn.BatchNorm1d(512)\n",
    "\n",
    "        self.fc9 = nn.Linear(512, 256)\n",
    "        self.bn9 = nn.BatchNorm1d(256)\n",
    "\n",
    "        self.fc10 = nn.Linear(256, n_actions)\n",
    "\n",
    "        self.optimizer = optim.AdamW(\n",
    "            self.parameters(), lr=lr, weight_decay=1e-4)\n",
    "        self.loss = nn.SmoothL1Loss()\n",
    "        self.device = torch.device(\n",
    "            'cuda:0' if torch.cuda.is_available() else 'cpu')\n",
    "        self.to(self.device)\n",
    "\n",
    "    def forward(self, state):\n",
    "        state = state.view(state.size(0), -1)\n",
    "\n",
    "        x = F.relu(self.bn1(self.fc1(state)))\n",
    "        x = F.relu(self.bn2(self.fc2(x)))\n",
    "        x = F.relu(self.bn3(self.fc3(x)))\n",
    "        x = F.relu(self.bn4(self.fc4(x)))\n",
    "        x = F.relu(self.bn5(self.fc5(x)))\n",
    "        x = F.relu(self.bn6(self.fc6(x)))\n",
    "        x = F.relu(self.bn7(self.fc7(x)))\n",
    "        x = F.relu(self.bn8(self.fc8(x)))\n",
    "        x = F.relu(self.bn9(self.fc9(x)))\n",
    "\n",
    "        actions = self.fc10(x)\n",
    "        return actions"
   ]
  },
  {
   "cell_type": "code",
   "execution_count": 7,
   "metadata": {},
   "outputs": [],
   "source": [
    "model = DeepQNetwork(0.0001, [17], 5)"
   ]
  },
  {
   "cell_type": "code",
   "execution_count": 21,
   "metadata": {},
   "outputs": [],
   "source": [
    "test = torch.randn(1, 17).to(model.device)"
   ]
  },
  {
   "cell_type": "code",
   "execution_count": 22,
   "metadata": {},
   "outputs": [
    {
     "data": {
      "text/plain": [
       "DeepQNetwork(\n",
       "  (fc1): Linear(in_features=17, out_features=256, bias=True)\n",
       "  (bn1): BatchNorm1d(256, eps=1e-05, momentum=0.1, affine=True, track_running_stats=True)\n",
       "  (fc2): Linear(in_features=256, out_features=512, bias=True)\n",
       "  (bn2): BatchNorm1d(512, eps=1e-05, momentum=0.1, affine=True, track_running_stats=True)\n",
       "  (fc3): Linear(in_features=512, out_features=1024, bias=True)\n",
       "  (bn3): BatchNorm1d(1024, eps=1e-05, momentum=0.1, affine=True, track_running_stats=True)\n",
       "  (fc4): Linear(in_features=1024, out_features=1024, bias=True)\n",
       "  (bn4): BatchNorm1d(1024, eps=1e-05, momentum=0.1, affine=True, track_running_stats=True)\n",
       "  (fc5): Linear(in_features=1024, out_features=1024, bias=True)\n",
       "  (bn5): BatchNorm1d(1024, eps=1e-05, momentum=0.1, affine=True, track_running_stats=True)\n",
       "  (fc6): Linear(in_features=1024, out_features=1024, bias=True)\n",
       "  (bn6): BatchNorm1d(1024, eps=1e-05, momentum=0.1, affine=True, track_running_stats=True)\n",
       "  (fc7): Linear(in_features=1024, out_features=1024, bias=True)\n",
       "  (bn7): BatchNorm1d(1024, eps=1e-05, momentum=0.1, affine=True, track_running_stats=True)\n",
       "  (fc8): Linear(in_features=1024, out_features=512, bias=True)\n",
       "  (bn8): BatchNorm1d(512, eps=1e-05, momentum=0.1, affine=True, track_running_stats=True)\n",
       "  (fc9): Linear(in_features=512, out_features=256, bias=True)\n",
       "  (bn9): BatchNorm1d(256, eps=1e-05, momentum=0.1, affine=True, track_running_stats=True)\n",
       "  (fc10): Linear(in_features=256, out_features=5, bias=True)\n",
       "  (loss): SmoothL1Loss()\n",
       ")"
      ]
     },
     "execution_count": 22,
     "metadata": {},
     "output_type": "execute_result"
    }
   ],
   "source": [
    "model.eval()"
   ]
  },
  {
   "cell_type": "code",
   "execution_count": 1,
   "metadata": {},
   "outputs": [],
   "source": [
    "import numpy as np"
   ]
  },
  {
   "cell_type": "code",
   "execution_count": 2,
   "metadata": {},
   "outputs": [
    {
     "data": {
      "text/plain": [
       "array([ 62101, 774033, 528784, 158223, 246235, 481037, 118380, 634910,\n",
       "       116398, 792654, 136608, 402636, 282352, 113162, 806485, 438168,\n",
       "       672868, 217808, 968853, 380855, 885586,  69561, 358292, 818310,\n",
       "       823116, 315572, 427484, 863762,  62577, 873408, 966051, 733344,\n",
       "        66625, 963208, 685638, 520251, 877012, 696464, 983854, 640989,\n",
       "       538033,  40930,  57924, 486269, 163450, 525981, 993580, 953297,\n",
       "       166967, 378274, 757653, 995493, 747735, 482867, 718289, 929423,\n",
       "        49250, 260552, 553917,  70357, 726826, 128301, 467668, 143383,\n",
       "       688491, 974956, 897108, 265015, 591979, 548938, 695324, 665290,\n",
       "       565022, 287574, 339817, 290329, 268132, 492130, 832334, 650604,\n",
       "       885154, 112211, 254990, 259023, 398238, 617270, 972956, 784493,\n",
       "       612928, 224714, 832527, 194372, 365835, 785694, 923929,  62878,\n",
       "       407038,  33514,  59851, 227784, 239692, 290368, 797749, 591450,\n",
       "       841331, 587132, 901157,  30917, 129560, 778507, 136759, 241316,\n",
       "       345548, 862161, 257607, 346440, 253004, 512398, 754058, 635238,\n",
       "       581745, 980601, 672668, 712713, 146277, 946855, 870357, 452288,\n",
       "       748280, 562742, 819080, 986859, 285679, 442971, 412263, 155411,\n",
       "       985837, 456260, 461736, 193680, 980091,  37662,  91613, 282987,\n",
       "       276500, 621835, 184615, 421526, 756315, 229492, 133179, 895645,\n",
       "       869545, 946275, 486877, 420007, 318404, 703837, 611840, 613752,\n",
       "       744929, 129886, 466901, 242751, 522886, 510629, 422469, 628232,\n",
       "       870607, 542559, 213896, 760626, 724495, 984270, 960671, 689038,\n",
       "       779560, 196289, 677281, 146998, 662685, 163745, 217452, 813928,\n",
       "       845620, 724130, 127042, 131365, 205847, 855719, 474660, 430611,\n",
       "       494177, 161844, 988625, 244728, 776081, 177051,  58478, 263200,\n",
       "       204642, 806946, 541303, 770374, 295854, 730212, 653397, 786709,\n",
       "       393519, 844954, 171327, 326156, 476159, 761805, 849670, 653130,\n",
       "       602030, 217388, 947741,  38697, 591993,  33688, 292428, 408185,\n",
       "       951248, 563178, 166952, 327513, 391067, 592362, 699766, 144473,\n",
       "       113556, 215346, 796690, 127461, 889323,  56840, 923154, 228947,\n",
       "       165058, 366971, 981096, 845299, 534436, 421301, 430308, 499164,\n",
       "       112409, 848035, 114583,  89198, 325935, 833668,  27684, 480633,\n",
       "       113682, 379131, 149738, 770351, 136464, 166550, 572501, 698767,\n",
       "       974850, 454594, 850983, 514654, 180162, 210774, 285767, 850530,\n",
       "       977707, 626027, 346654,  76612, 128122, 811399, 502457, 150708,\n",
       "       138892, 140730, 716813, 537855, 685480, 952605, 428192, 280852,\n",
       "        77030, 614474, 194262, 203019, 497029, 389810, 635715, 476989,\n",
       "       282555, 725607, 767132,  32011, 103422, 973727, 313361, 693298,\n",
       "       718004, 754089,  88556, 874475, 100131, 149901, 675952, 643178,\n",
       "       781632, 868514, 660231, 822149, 952093, 234563, 565200, 360109,\n",
       "       121386,  96942, 327815, 865004,  91318, 782197, 704597, 687729,\n",
       "       917748, 440045, 600277, 472620, 635105, 450985, 852456, 574610,\n",
       "       586660, 170233, 867613, 908689, 527043, 647007, 138539, 960870,\n",
       "        86231, 736818, 322290, 508354, 689521, 983336, 486054, 977664,\n",
       "        38341, 811838, 937199, 334284, 642747, 631180, 350664, 658220,\n",
       "       831358, 154483, 940514, 617216, 630017, 972754, 120482, 208604,\n",
       "       262348, 539258, 420582, 309453, 543843, 487725,  48208,  97027,\n",
       "       698536, 405605, 486628, 162489, 502345,  50242, 545806, 369347,\n",
       "        11515, 278352, 497880,  95341, 153758, 424921, 592694, 208801,\n",
       "       844106, 634068, 352584, 586930, 209565, 355812,  27890,  77261,\n",
       "       312402, 925224, 964289, 304153, 800398, 296108, 903489, 232998,\n",
       "       500415, 511518, 761342, 136158, 549691, 697862, 606682, 213182,\n",
       "       832361, 118224, 988581, 277012, 770226, 785999, 669897, 288476,\n",
       "       236146, 946405, 183798, 418065, 397596, 786994, 641942, 932209,\n",
       "       536727,  33498, 403904, 193096, 732538, 917686, 241858, 295992,\n",
       "       908796, 671068, 305119, 596192,  63252, 358809, 735129, 524634,\n",
       "        35681, 477484, 781683, 506411, 321923, 313914, 845414, 700278,\n",
       "        95154, 259753,  56674, 603295, 801532,  90111, 960794,  31881,\n",
       "       419264, 206536, 544863, 680417, 347652, 908402, 284386, 572598,\n",
       "        18863, 286698, 567515,  21421, 170919, 384077, 958009, 639576,\n",
       "       949088, 333080, 498295,  85745, 474137, 327942, 162725, 226965,\n",
       "       618276, 849143, 993258, 390918, 421777, 274770, 527423, 568171,\n",
       "       784337, 148435,  18873, 743520, 560883, 760613, 675289, 168369,\n",
       "       169479, 494878, 222863, 856646, 412912, 958538, 183586, 389171])"
      ]
     },
     "execution_count": 2,
     "metadata": {},
     "output_type": "execute_result"
    }
   ],
   "source": [
    "np.random.choice(1000000, 512, replace=False)"
   ]
  }
 ],
 "metadata": {
  "kernelspec": {
   "display_name": "dl-env",
   "language": "python",
   "name": "python3"
  },
  "language_info": {
   "codemirror_mode": {
    "name": "ipython",
    "version": 3
   },
   "file_extension": ".py",
   "mimetype": "text/x-python",
   "name": "python",
   "nbconvert_exporter": "python",
   "pygments_lexer": "ipython3",
   "version": "3.10.11"
  }
 },
 "nbformat": 4,
 "nbformat_minor": 2
}
