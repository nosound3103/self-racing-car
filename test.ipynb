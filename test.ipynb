{
 "cells": [
  {
   "cell_type": "code",
   "execution_count": 3,
   "metadata": {},
   "outputs": [],
   "source": [
    "import numpy\n",
    "import shapely\n",
    "\n",
    "from shapely.geometry import Point, LineString, Polygon"
   ]
  },
  {
   "cell_type": "code",
   "execution_count": 2,
   "metadata": {},
   "outputs": [],
   "source": [
    "min_speed_sign_line = [[[27, 433], [91, 433]], [[280, 224], [344, 224]], [[680, 514], [744, 514]]]\n",
    "max_speed_sign_line = [[[159, 145], [227, 145]], [[440, 223], [468, 223]]]\n",
    "speed_bump_box = [[[26, 441], [90, 445], [87, 474], [24, 470]], [[277, 325], [341, 325], [340, 354], [275, 354]], [[415, 520], [473, 490], [485, 517], [428, 546]], [[655, 310], [681, 45], [649, 120], [622, 89]]]"
   ]
  },
  {
   "cell_type": "code",
   "execution_count": 6,
   "metadata": {},
   "outputs": [],
   "source": [
    "min_speed_sign_line = [LineString(min_speed_sign_line[i]) for i in range(len(min_speed_sign_line))]\n",
    "max_speed_sign_line = [LineString(max_speed_sign_line[i]) for i in range(len(max_speed_sign_line))]\n",
    "speed_bump_box = [Polygon(speed_bump_box[i]) for i in range(len(speed_bump_box))]"
   ]
  },
  {
   "cell_type": "code",
   "execution_count": 10,
   "metadata": {},
   "outputs": [],
   "source": [
    "car = Polygon([[0, 0], [0, 10], [10, 10], [10, 0]])"
   ]
  },
  {
   "cell_type": "code",
   "execution_count": 9,
   "metadata": {},
   "outputs": [],
   "source": [
    "obj = min_speed_sign_line + max_speed_sign_line + speed_bump_box"
   ]
  },
  {
   "cell_type": "code",
   "execution_count": null,
   "metadata": {},
   "outputs": [],
   "source": [
    "for i in range(len(speed_bump_box)):\n",
    "    if car.intersects(speed_bump_box[i]):\n",
    "        print(\"Car intersects speed bump\")\n",
    "        break"
   ]
  },
  {
   "cell_type": "code",
   "execution_count": 4,
   "metadata": {},
   "outputs": [],
   "source": [
    "import torch\n",
    "import torch.nn as nn\n",
    "import torch.nn.functional as F\n",
    "import torch.optim as optim\n",
    "import numpy as np\n",
    "\n",
    "\n",
    "class DeepQNetwork(nn.Module):\n",
    "    def __init__(self, lr, input_dims, n_actions):\n",
    "        super(DeepQNetwork, self).__init__()\n",
    "\n",
    "        self.fc1 = nn.Linear(np.prod(input_dims), 256)\n",
    "        self.bn1 = nn.BatchNorm1d(256)\n",
    "\n",
    "        self.fc2 = nn.Linear(256, 512)\n",
    "        self.bn2 = nn.BatchNorm1d(512)\n",
    "\n",
    "        self.fc3 = nn.Linear(512, 1024)\n",
    "        self.bn3 = nn.BatchNorm1d(1024)\n",
    "\n",
    "        self.fc4 = nn.Linear(1024, 1024)\n",
    "        self.bn4 = nn.BatchNorm1d(1024)\n",
    "\n",
    "        self.fc5 = nn.Linear(1024, 1024)\n",
    "        self.bn5 = nn.BatchNorm1d(1024)\n",
    "\n",
    "        self.fc6 = nn.Linear(1024, 1024)\n",
    "        self.bn6 = nn.BatchNorm1d(1024)\n",
    "\n",
    "        self.fc7 = nn.Linear(1024, 1024)\n",
    "        self.bn7 = nn.BatchNorm1d(1024)\n",
    "\n",
    "        self.fc8 = nn.Linear(1024, 512)\n",
    "        self.bn8 = nn.BatchNorm1d(512)\n",
    "\n",
    "        self.fc9 = nn.Linear(512, 256)\n",
    "        self.bn9 = nn.BatchNorm1d(256)\n",
    "\n",
    "        self.fc10 = nn.Linear(256, n_actions)\n",
    "\n",
    "        self.optimizer = optim.AdamW(\n",
    "            self.parameters(), lr=lr, weight_decay=1e-4)\n",
    "        self.loss = nn.SmoothL1Loss()\n",
    "        self.device = torch.device(\n",
    "            'cuda:0' if torch.cuda.is_available() else 'cpu')\n",
    "        self.to(self.device)\n",
    "\n",
    "    def forward(self, state):\n",
    "        state = state.view(state.size(0), -1)\n",
    "\n",
    "        x = F.relu(self.bn1(self.fc1(state)))\n",
    "        x = F.relu(self.bn2(self.fc2(x)))\n",
    "        x = F.relu(self.bn3(self.fc3(x)))\n",
    "        x = F.relu(self.bn4(self.fc4(x)))\n",
    "        x = F.relu(self.bn5(self.fc5(x)))\n",
    "        x = F.relu(self.bn6(self.fc6(x)))\n",
    "        x = F.relu(self.bn7(self.fc7(x)))\n",
    "        x = F.relu(self.bn8(self.fc8(x)))\n",
    "        x = F.relu(self.bn9(self.fc9(x)))\n",
    "\n",
    "        actions = self.fc10(x)\n",
    "        return actions"
   ]
  },
  {
   "cell_type": "code",
   "execution_count": 7,
   "metadata": {},
   "outputs": [],
   "source": [
    "model = DeepQNetwork(0.0001, [17], 5)"
   ]
  },
  {
   "cell_type": "code",
   "execution_count": 21,
   "metadata": {},
   "outputs": [],
   "source": [
    "test = torch.randn(1, 17).to(model.device)"
   ]
  },
  {
   "cell_type": "code",
   "execution_count": 22,
   "metadata": {},
   "outputs": [
    {
     "data": {
      "text/plain": [
       "DeepQNetwork(\n",
       "  (fc1): Linear(in_features=17, out_features=256, bias=True)\n",
       "  (bn1): BatchNorm1d(256, eps=1e-05, momentum=0.1, affine=True, track_running_stats=True)\n",
       "  (fc2): Linear(in_features=256, out_features=512, bias=True)\n",
       "  (bn2): BatchNorm1d(512, eps=1e-05, momentum=0.1, affine=True, track_running_stats=True)\n",
       "  (fc3): Linear(in_features=512, out_features=1024, bias=True)\n",
       "  (bn3): BatchNorm1d(1024, eps=1e-05, momentum=0.1, affine=True, track_running_stats=True)\n",
       "  (fc4): Linear(in_features=1024, out_features=1024, bias=True)\n",
       "  (bn4): BatchNorm1d(1024, eps=1e-05, momentum=0.1, affine=True, track_running_stats=True)\n",
       "  (fc5): Linear(in_features=1024, out_features=1024, bias=True)\n",
       "  (bn5): BatchNorm1d(1024, eps=1e-05, momentum=0.1, affine=True, track_running_stats=True)\n",
       "  (fc6): Linear(in_features=1024, out_features=1024, bias=True)\n",
       "  (bn6): BatchNorm1d(1024, eps=1e-05, momentum=0.1, affine=True, track_running_stats=True)\n",
       "  (fc7): Linear(in_features=1024, out_features=1024, bias=True)\n",
       "  (bn7): BatchNorm1d(1024, eps=1e-05, momentum=0.1, affine=True, track_running_stats=True)\n",
       "  (fc8): Linear(in_features=1024, out_features=512, bias=True)\n",
       "  (bn8): BatchNorm1d(512, eps=1e-05, momentum=0.1, affine=True, track_running_stats=True)\n",
       "  (fc9): Linear(in_features=512, out_features=256, bias=True)\n",
       "  (bn9): BatchNorm1d(256, eps=1e-05, momentum=0.1, affine=True, track_running_stats=True)\n",
       "  (fc10): Linear(in_features=256, out_features=5, bias=True)\n",
       "  (loss): SmoothL1Loss()\n",
       ")"
      ]
     },
     "execution_count": 22,
     "metadata": {},
     "output_type": "execute_result"
    }
   ],
   "source": [
    "model.eval()"
   ]
  },
  {
   "cell_type": "code",
   "execution_count": 23,
   "metadata": {},
   "outputs": [
    {
     "data": {
      "text/plain": [
       "tensor([[-0.0312, -0.0010,  0.0098,  0.0303,  0.0607]], device='cuda:0',\n",
       "       grad_fn=<AddmmBackward0>)"
      ]
     },
     "execution_count": 23,
     "metadata": {},
     "output_type": "execute_result"
    }
   ],
   "source": [
    "model(test)"
   ]
  },
  {
   "cell_type": "code",
   "execution_count": null,
   "metadata": {},
   "outputs": [],
   "source": []
  }
 ],
 "metadata": {
  "kernelspec": {
   "display_name": "dl-env",
   "language": "python",
   "name": "python3"
  },
  "language_info": {
   "codemirror_mode": {
    "name": "ipython",
    "version": 3
   },
   "file_extension": ".py",
   "mimetype": "text/x-python",
   "name": "python",
   "nbconvert_exporter": "python",
   "pygments_lexer": "ipython3",
   "version": "3.10.11"
  }
 },
 "nbformat": 4,
 "nbformat_minor": 2
}
